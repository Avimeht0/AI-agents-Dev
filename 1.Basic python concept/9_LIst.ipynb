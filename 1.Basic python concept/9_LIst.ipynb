{
 "cells": [
  {
   "cell_type": "markdown",
   "id": "97cd1834",
   "metadata": {},
   "source": [
    "## What is a List?<a name=\"what-is-a-list\"></a>\n",
    "\n",
    "A list in Python is an **ordered, mutable collection** of items. Lists can contain elements of different data types and are one of the most versatile data structures in Python.\n",
    "\n",
    "```python\n",
    "# Basic list syntax\n",
    "my_list = [1, 2, 3, 4, 5]\n",
    "mixed_list = [1, \"hello\", 3.14, True]"
   ]
  },
  {
   "cell_type": "code",
   "execution_count": 2,
   "id": "f2d08078",
   "metadata": {},
   "outputs": [
    {
     "name": "stdout",
     "output_type": "stream",
     "text": [
      "[1, 2, 3, 4, 5] [1, 'hello', 3.55, True]\n"
     ]
    }
   ],
   "source": [
    "my_list=[1, 2, 3, 4, 5]\n",
    "mixed_list=[1, \"hello\", 3.55,True]\n",
    "\n",
    "print(my_list,mixed_list)"
   ]
  },
  {
   "cell_type": "markdown",
   "id": "88bb0b02",
   "metadata": {},
   "source": [
    "# Key Characteristics<a name=\"key-characteristics\"></a>\n",
    "Ordered: Elements maintain their insertion order\n",
    "\n",
    "Mutable: You can change, add, or remove items after creation\n",
    "\n",
    "Heterogeneous: Can contain elements of different data types\n",
    "\n",
    "Indexed: Elements can be accessed by their position (index)\n",
    "\n",
    "Dynamic: Can grow or shrink as needed"
   ]
  },
  {
   "cell_type": "markdown",
   "id": "87075e9a",
   "metadata": {},
   "source": [
    "# Creating Lists<a name=\"creating-lists\"></a>\n"
   ]
  },
  {
   "cell_type": "code",
   "execution_count": 3,
   "id": "d6639e9e",
   "metadata": {},
   "outputs": [],
   "source": [
    "# Method 1 Using squre brackets\n",
    "my_list=[1, 2, 3]\n"
   ]
  },
  {
   "cell_type": "code",
   "execution_count": 12,
   "id": "40eea881",
   "metadata": {},
   "outputs": [
    {
     "name": "stdout",
     "output_type": "stream",
     "text": [
      "[1, 2, 3]\n",
      "['A', 'r', 'v', 'i', 'n', 'd']\n"
     ]
    }
   ],
   "source": [
    "# Method 2 Using list(Iterables) constructor \n",
    "my_list=list((1, 2, 3)) #you can pass only one argument\n",
    "print(my_list)\n",
    " \n",
    "Name=list((\"Arvind\"))\n",
    "print(Name)\n",
    "\n"
   ]
  },
  {
   "cell_type": "code",
   "execution_count": 13,
   "id": "c24bbf35",
   "metadata": {},
   "outputs": [],
   "source": [
    "# Method 3 empty list \n",
    "\n",
    "list1=[]\n",
    "list2=list()"
   ]
  },
  {
   "cell_type": "code",
   "execution_count": 15,
   "id": "da9ae18d",
   "metadata": {},
   "outputs": [
    {
     "name": "stdout",
     "output_type": "stream",
     "text": [
      "[1, 2, 3, 4, 5]\n",
      "['Assignment1', 'Assignment1', 'Assignment1', 'Assignment1', 'Assignment1']\n"
     ]
    }
   ],
   "source": [
    "# Method 4\n",
    "\n",
    "numbers=list(range(1,6))\n",
    "print(numbers)\n",
    "\n",
    "repeated=[\"Assignment1\"]*5\n",
    "print(repeated)\n"
   ]
  },
  {
   "cell_type": "markdown",
   "id": "0490f86e",
   "metadata": {},
   "source": [
    "# Accessing Elements<a name=\"accessing-elements\"></a>"
   ]
  },
  {
   "cell_type": "code",
   "execution_count": 28,
   "id": "8ba53f87",
   "metadata": {},
   "outputs": [
    {
     "name": "stdout",
     "output_type": "stream",
     "text": [
      "cherry\n",
      "cherry\n",
      "['Apple', 'banana', 'cherry']\n",
      "['Apple', 'banana', 'cherry', 'data']\n",
      "['Apple', 'cherry']\n",
      "['banana', 'data']\n",
      "['Apple', 'banana', 'cherry', 'data']\n",
      "['Apple', 'cherry']\n",
      "['data', 'cherry', 'banana', 'Apple']\n",
      "['Apple', 'banana', 'cherry']\n",
      "['Apple', 'banana']\n",
      "yes\n"
     ]
    }
   ],
   "source": [
    "my_list=[\"Apple\",\"banana\",\"cherry\",\"data\"]\n",
    "# Access using positive intex \n",
    "print(my_list[2])\n",
    "\n",
    "# Access using nagative index\n",
    "print(my_list[-2])\n",
    "\n",
    "# Slicing lists [start:stop:step]\n",
    "print(my_list[0:3])\n",
    "print(my_list[0:4:1])\n",
    "print(my_list[0:4:2])\n",
    "print(my_list[1:4:2])\n",
    "\n",
    "print(my_list[:]) #print all the data \n",
    "print(my_list[::2]) \n",
    "print(my_list[::-1]) #print all data in reverse order \n",
    "print(my_list[:-1]) #print all  data in except last one\n",
    "print(my_list[:-2]) #print all  data in except last one\n",
    "\n",
    "#Check element exists \n",
    "\n",
    "if \"Apple\" in my_list:\n",
    "    print(\"yes\")\n"
   ]
  },
  {
   "cell_type": "markdown",
   "id": "0826984b",
   "metadata": {},
   "source": [
    "# Modifying Lists<a name=\"modifying-lists\"></a>"
   ]
  },
  {
   "cell_type": "code",
   "execution_count": 36,
   "id": "765e358b",
   "metadata": {},
   "outputs": [
    {
     "name": "stdout",
     "output_type": "stream",
     "text": [
      "[1, 2, 3, 4, 5, 6, 7, 8, 9, 10]\n",
      "[30, 2, 3, 4, 5, 6, 7, 8, 9, 40]\n",
      "[30, 2, 3, 87, 4, 5, 6, 7, 8, 9, 40, 50]\n",
      "[30, 2, 87, 4, 5, 6, 8, 9]\n",
      "[]\n",
      "[1, 2, 3, 4, 5, 6, 7, 8, 9, 10, 23, 65]\n"
     ]
    }
   ],
   "source": [
    "my_list=list(range(1,11))\n",
    "print(my_list)\n",
    "\n",
    "# Modify existing elements\n",
    "\n",
    "my_list[0]=30\n",
    "my_list[-1]=40\n",
    "print(my_list)\n",
    "\n",
    "# Add elements\n",
    "my_list.append(50)\n",
    "my_list.insert(3,87)\n",
    "print(my_list)\n",
    "\n",
    "# Remove elements\n",
    "my_list.remove(50)\n",
    "popped=my_list.pop()\n",
    "popped=my_list.pop(2)\n",
    "del my_list[6]\n",
    "print(my_list)\n",
    "\n",
    "# clear list\n",
    "\n",
    "my_list.clear()\n",
    "print(my_list)\n",
    "\n",
    "my_list=list(range(1,11))\n",
    "\n",
    "\n",
    "# Extend List with onother list \n",
    "\n",
    "list1=[23,65]\n",
    "\n",
    "my_list.extend(list1)\n",
    "print(my_list)"
   ]
  },
  {
   "cell_type": "markdown",
   "id": "d2c775aa",
   "metadata": {},
   "source": [
    "# List Methods<a name=\"list-methods\"></a>"
   ]
  },
  {
   "cell_type": "code",
   "execution_count": 44,
   "id": "4d6841d8",
   "metadata": {},
   "outputs": [
    {
     "name": "stdout",
     "output_type": "stream",
     "text": [
      "[1, 1, 2, 3, 4, 5, 6, 9]\n",
      "[9, 6, 5, 4, 3, 2, 1, 1]\n",
      "2\n",
      "2\n",
      "The min = 1 , max = 9 and sum = 31\n"
     ]
    }
   ],
   "source": [
    "my_list = [3, 1, 4, 1, 5, 9, 2, 6]\n",
    "\n",
    "# Sorting\n",
    "my_list.sort() # in-place\n",
    "sorted_list=sorted(my_list) # Return new sorted list\n",
    "print(my_list)\n",
    "\n",
    "# Reversing \n",
    "my_list.reverse()\n",
    "reverse_list=list(reversed(my_list))\n",
    "print(my_list)\n",
    "\n",
    "# Counting elements\n",
    "count=my_list.count(1) # Number of times that element appear in list\n",
    "print(count)\n",
    "\n",
    "index=my_list.index(5)\n",
    "print(index) # It return first index of value elements\n",
    "\n",
    "lenght = len(my_list)\n",
    "\n",
    "# Copying list\n",
    "shallow_copy=my_list.copy()\n",
    "shallow_copy=my_list[:]\n",
    "\n",
    "# Minimum, Maximum and Sum \n",
    "min_value=min(my_list)\n",
    "mx=max(my_list)\n",
    "sm=sum(my_list)\n",
    "print(f'The min = {min_value} , max = {mx} and sum = {sm}')"
   ]
  },
  {
   "cell_type": "markdown",
   "id": "7f126b77",
   "metadata": {},
   "source": [
    "# Iterating Through Lists<a name=\"iterating-through-lists\"></a>"
   ]
  },
  {
   "cell_type": "code",
   "execution_count": null,
   "id": "f66f9edd",
   "metadata": {},
   "outputs": [
    {
     "name": "stdout",
     "output_type": "stream",
     "text": [
      "Apple\n",
      "Banana\n",
      "Charry\n",
      "index 0: Apple\n",
      "index 1: Banana\n",
      "index 2: Charry\n",
      "index 0: has fruit Apple\n",
      "index 1: has fruit Banana\n",
      "index 2: has fruit Charry\n",
      "Apple\n",
      "Banana\n",
      "Charry\n",
      "Apple and there price 3.5\n",
      "Banana and there price 64\n",
      "Charry and there price 69.3\n",
      "Banana\n"
     ]
    }
   ],
   "source": [
    "fruits=[\"Apple\",'Banana',\"Charry\"]\n",
    "\n",
    "# Basic iteration\n",
    "for fruit in fruits:\n",
    "    print(fruit)\n",
    "\n",
    "# Iteration with index \n",
    "for i, fruit in enumerate(fruits):\n",
    "    print(f\"index {i}: {fruit}\")\n",
    "\n",
    "# Iteration with range\n",
    "for i in range(len(fruits)):\n",
    "    print(f\"index {i}: has fruit {fruits[i]}\")\n",
    "# While loop\n",
    "\n",
    "i=0\n",
    "while i< len(fruits):\n",
    "    print(fruits[i])\n",
    "    i+=1\n",
    "\n",
    "# Iteration with zip (multiple list)\n",
    "prices=[3.5, 64, 69.3]\n",
    "\n",
    "for frute, price in zip(fruits,prices):\n",
    "    print(f\"{frute} and there price {price}\")\n",
    "\n",
    "# List iteration with condition \n",
    "for i in fruits:\n",
    "    if i.startswith (\"B\"):\n",
    "        print(i)\n",
    "\n"
   ]
  },
  {
   "cell_type": "markdown",
   "id": "3bb20ba3",
   "metadata": {},
   "source": [
    "# List Comprehensions<a name=\"list-comprehensions\"></a>"
   ]
  },
  {
   "cell_type": "code",
   "execution_count": 7,
   "id": "605ac10d",
   "metadata": {},
   "outputs": [
    {
     "name": "stdout",
     "output_type": "stream",
     "text": [
      "[1, 2, 3, 4] and [1, 4, 9, 16]\n",
      "[2, 4]\n",
      "['HELLO', 'WORLD', 'PYTHON']\n"
     ]
    }
   ],
   "source": [
    "numbers=[1,2,3,4]\n",
    "# Basic comprehension\n",
    "squires=[i**2 for i in numbers ]\n",
    "print(f\"{numbers} and {squires}\")\n",
    "\n",
    "# Condition Comprehension\n",
    "\n",
    "evens=[x for x in numbers if x%2==0]\n",
    "print(evens)\n",
    "\n",
    "words=[\"hello\", \"world\", \"python\"]\n",
    "uppercase=[word.upper() for word in words]\n",
    "print(uppercase)"
   ]
  },
  {
   "cell_type": "code",
   "execution_count": 11,
   "id": "a17116d2",
   "metadata": {},
   "outputs": [
    {
     "name": "stdout",
     "output_type": "stream",
     "text": [
      "[1, 2, 3, 4, 5, 6, 7, 8, 9]\n",
      "[1, 2, 3, 4, 5, 6, 7, 8, 9]\n"
     ]
    }
   ],
   "source": [
    "matrix = [[1, 2, 3], [4, 5, 6], [7, 8, 9]]\n",
    "flattened=[]\n",
    "\n",
    "for row in matrix:\n",
    "    for num in row:\n",
    "        flattened.insert(len(flattened),num)\n",
    "print(flattened)\n",
    "\n",
    "flattened2=[num for row in matrix for num in row]\n",
    "print(flattened2)"
   ]
  },
  {
   "cell_type": "code",
   "execution_count": null,
   "id": "67a238da",
   "metadata": {},
   "outputs": [],
   "source": []
  }
 ],
 "metadata": {
  "kernelspec": {
   "display_name": "base",
   "language": "python",
   "name": "python3"
  },
  "language_info": {
   "codemirror_mode": {
    "name": "ipython",
    "version": 3
   },
   "file_extension": ".py",
   "mimetype": "text/x-python",
   "name": "python",
   "nbconvert_exporter": "python",
   "pygments_lexer": "ipython3",
   "version": "3.11.3"
  }
 },
 "nbformat": 4,
 "nbformat_minor": 5
}
