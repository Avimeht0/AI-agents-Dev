{
 "cells": [
  {
   "cell_type": "markdown",
   "id": "aa49ed18",
   "metadata": {},
   "source": [
    "# What is a Tuple?<a name=\"what-is-a-tuple\"></a>\n",
    "\n",
    "A tuple in Python is an **ordered, immutable collection** of elements. Tuples are similar to lists but cannot be modified after creation, making them suitable for storing fixed data.\n",
    "\n",
    "```python\n",
    "# Basic tuple syntax\n",
    "my_tuple = (1, 2, 3, 4, 5)\n",
    "mixed_tuple = (1, \"hello\", 3.14, True)\n",
    "single_element = (42,)  # Note the comma for single-element tuples"
   ]
  },
  {
   "cell_type": "markdown",
   "id": "3575dd96",
   "metadata": {},
   "source": [
    "# Key Characteristics<a name=\"key-characteristics\"></a>\n",
    "Immutable: Cannot be changed after creation\n",
    "\n",
    "Ordered: Elements maintain their insertion order\n",
    "\n",
    "Heterogeneous: Can contain elements of different data types\n",
    "\n",
    "Indexable: Elements can be accessed by their position\n",
    "\n",
    "Hashable: Can be used as dictionary keys (if all elements are hashable)\n",
    "\n",
    "Fixed size: Length cannot be changed after creation"
   ]
  },
  {
   "cell_type": "markdown",
   "id": "2d7d445a",
   "metadata": {},
   "source": [
    "# Creating Tuples<a name=\"creating-tuples\"></a>"
   ]
  },
  {
   "cell_type": "code",
   "execution_count": 7,
   "id": "dcde57d7",
   "metadata": {},
   "outputs": [
    {
     "name": "stdout",
     "output_type": "stream",
     "text": [
      "('A', 'r', 'v', 'i', 'n', 'd')\n",
      "(1, 3, 5, 6, 'a')\n",
      "('af', 3)\n"
     ]
    }
   ],
   "source": [
    "# Method 1: Using parantheses \n",
    "numbers = (1,3,2,5)\n",
    "fruits =(\"apple\",\"banana\", \"charry\")\n",
    "\n",
    "# Method 2: using tuple() construction \n",
    "numbers=tuple([1,2,3,5])\n",
    "chars=tuple(\"Arvind\")\n",
    "print(chars)\n",
    "\n",
    "# Method 3: Creating empty tuple \n",
    "empty=tuple()\n",
    "empty=()\n",
    "\n",
    "# Method 4: Single tuple \n",
    "single=(23,)\n",
    "single=(34) # It is not tuple it just int value \n",
    "\n",
    "# Method 5: Without parantheses (tuple packing )\n",
    "\n",
    "packing=1,3,5,6,\"a\"\n",
    "print(packing)\n",
    "\n",
    "# Method 6: form itrables \n",
    "from_set=tuple({3,\"af\"})\n",
    "print(from_set)\n",
    "from_range=tuple(range(1,11))"
   ]
  },
  {
   "cell_type": "markdown",
   "id": "b19def4f",
   "metadata": {},
   "source": [
    "# Tuple Packing and Unpacking<a name=\"tuple-packing-and-unpacking\"></a>"
   ]
  },
  {
   "cell_type": "code",
   "execution_count": 12,
   "id": "8196e752",
   "metadata": {},
   "outputs": [
    {
     "name": "stdout",
     "output_type": "stream",
     "text": [
      "2,5,4,afhj\n",
      "5 1 12\n"
     ]
    }
   ],
   "source": [
    "# tuple packing \n",
    "packing=2,5,4,\"afhj\"\n",
    "\n",
    "# tuple unpacking \n",
    "a,f,g,h=packing \n",
    "\n",
    "print(f\"{a},{f},{g},{h}\")\n",
    "\n",
    "# Function  return multiple values \n",
    "\n",
    "def get_value(from_tuples):\n",
    "    return max(from_tuples),min(from_tuples),sum(from_tuples)\n",
    "\n",
    "Mx,mn,sm=get_value(tuple([1,2,4,5]))\n",
    "print(Mx,mn,sm)"
   ]
  },
  {
   "cell_type": "markdown",
   "id": "31b1098f",
   "metadata": {},
   "source": [
    "# Accessing Elements<a name=\"accessing-elements\"></a>"
   ]
  },
  {
   "cell_type": "code",
   "execution_count": 15,
   "id": "044c159a",
   "metadata": {},
   "outputs": [
    {
     "name": "stdout",
     "output_type": "stream",
     "text": [
      "yes it is there \n",
      "1\n",
      "1\n"
     ]
    }
   ],
   "source": [
    "my_tuple=(\"Apple\",\"Banana\", \"Cherry\", \"Date\", \"elderberry\")\n",
    "\n",
    "#positive and nagative indexing \n",
    "\n",
    "# Slicing [start:stop:step]\n",
    "\n",
    "# check element is there or not \n",
    "\n",
    "if \"Banana\" in my_tuple:\n",
    "    print(\"yes it is there \")\n",
    "\n",
    "# Get index of element \n",
    "print(my_tuple.index(\"Banana\"))\n",
    "\n",
    "# Count occurrence \n",
    "\n",
    "print(my_tuple.count(\"Date\"))"
   ]
  },
  {
   "cell_type": "markdown",
   "id": "49c929df",
   "metadata": {},
   "source": [
    "# Tuple Operations<a name=\"tuple-operations\"></a>"
   ]
  },
  {
   "cell_type": "code",
   "execution_count": null,
   "id": "bf296791",
   "metadata": {},
   "outputs": [
    {
     "name": "stdout",
     "output_type": "stream",
     "text": [
      "(1, 2, 3, 4, 5, 6)\n",
      "(1, 2, 3, 1, 2, 3, 1, 2, 3)\n",
      "True\n",
      "True\n",
      "False\n",
      "False\n"
     ]
    },
    {
     "data": {
      "text/plain": [
       "6"
      ]
     },
     "execution_count": 21,
     "metadata": {},
     "output_type": "execute_result"
    }
   ],
   "source": [
    "tuple1=1,2,3\n",
    "tuple2=4,5,6 \n",
    "\n",
    "# Concatination \n",
    "tuple3=tuple1+tuple2\n",
    "print(tuple3)\n",
    "\n",
    "#Repetition\n",
    "repeated=tuple1*3\n",
    "print(repeated)\n",
    "\n",
    "# membership testing \n",
    "\n",
    "print(2 in tuple1)\n",
    "print(5 not in  tuple1)\n",
    "\n",
    "# Comparision \n",
    "\n",
    "print(tuple1>tuple2)\n",
    "print(tuple1==tuple2)\n",
    "\n",
    "len(tuple3)\n",
    "\n"
   ]
  },
  {
   "cell_type": "markdown",
   "id": "4d93133c",
   "metadata": {},
   "source": [
    "# Tuple Methods"
   ]
  },
  {
   "cell_type": "code",
   "execution_count": 27,
   "id": "5e3b1a46",
   "metadata": {},
   "outputs": [
    {
     "name": "stdout",
     "output_type": "stream",
     "text": [
      "2\n",
      "2\n",
      "3\n"
     ]
    }
   ],
   "source": [
    "my_tuple=(1,2,3,2,4,5,3)\n",
    "\n",
    "count=my_tuple.count(2)\n",
    "print(count)\n",
    "\n",
    "first_index=my_tuple.index(3)\n",
    "print(first_index)\n",
    "second_index=my_tuple.index(2,2)\n",
    "print(second_index)"
   ]
  },
  {
   "cell_type": "markdown",
   "id": "a34509c7",
   "metadata": {},
   "source": [
    "# Immutable nature"
   ]
  },
  {
   "cell_type": "code",
   "execution_count": 4,
   "id": "5742d47e",
   "metadata": {},
   "outputs": [
    {
     "name": "stdout",
     "output_type": "stream",
     "text": [
      "[1, 30]\n",
      "([1, 30, 12], ['Arvind', 3.4])\n",
      "([1, 30, 12], ['Arvind', 3.4], 'Mehta')\n",
      "(1, 2, 3, 4, 5)\n"
     ]
    }
   ],
   "source": [
    "my_tuple=(1,2,3)\n",
    "\"\"\" These operation would raise type errors \n",
    "    my_tuple[0]=12\n",
    "    my_tuple.append(34)\n",
    "    my_tuple.remove(2)\"\"\"\n",
    "\n",
    "# However, if tuple contains mutable objects those can be modify \n",
    "mutable_tuple=([1,3],[\"Arvind\",3.4])\n",
    "mutable_tuple[0][1]=30\n",
    "print(mutable_tuple[0])\n",
    "\n",
    "mutable_tuple[0].append(12)\n",
    "print(mutable_tuple)\n",
    "\n",
    "# Creating new tuple from existing tuple\n",
    "\n",
    "new_tuple=mutable_tuple[:2]+(\"Mehta\",)+mutable_tuple[2:]\n",
    "print(new_tuple)\n",
    "\n",
    "# Convert to list for modification and than back into tuple \n",
    "original = 1,2,34,5\n",
    "new_list=list(original)\n",
    "new_list[2]=3\n",
    "new_list.insert(3,4)\n",
    "original=tuple(new_list)\n",
    "print(original)"
   ]
  },
  {
   "cell_type": "markdown",
   "id": "69694175",
   "metadata": {},
   "source": [
    "# When to use tuples"
   ]
  },
  {
   "cell_type": "code",
   "execution_count": null,
   "id": "a452f6fb",
   "metadata": {},
   "outputs": [],
   "source": [
    "# When you need  immutablebility (data integrity)\n",
    "constants=(3.14159, 2.718, 1.689)\n",
    "\n",
    "\n",
    "# As dictionary key (because they are hashable )\n",
    "\n",
    "locations={\n",
    "    (40.743234, -74.0060):\"New york\",\n",
    "    (34.8766, -76.345):\"Los Angeles\"\n",
    "}\n",
    "\n",
    "# Retruning mutliple values from fuctions \n",
    "\n",
    "def get_user_info(user_id):\n",
    "    # fetch user_id to data base \n",
    "    return (\"Arvind\",30,\"kushinagar\",\"IISc\")\n",
    "# Data that should not change \n",
    "\n",
    "days_of_weeks=(\"Monday\", \"Tuesday\", \"Wednesday\", \"Thursday\",\"Friday\",\"Saturday\",\"Sunday\")\n",
    "\n"
   ]
  },
  {
   "cell_type": "code",
   "execution_count": null,
   "id": "c956ceb1",
   "metadata": {},
   "outputs": [],
   "source": []
  }
 ],
 "metadata": {
  "kernelspec": {
   "display_name": "base",
   "language": "python",
   "name": "python3"
  },
  "language_info": {
   "codemirror_mode": {
    "name": "ipython",
    "version": 3
   },
   "file_extension": ".py",
   "mimetype": "text/x-python",
   "name": "python",
   "nbconvert_exporter": "python",
   "pygments_lexer": "ipython3",
   "version": "3.11.3"
  }
 },
 "nbformat": 4,
 "nbformat_minor": 5
}
