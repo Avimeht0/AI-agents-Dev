{
 "cells": [
  {
   "cell_type": "markdown",
   "id": "bf922a5d",
   "metadata": {},
   "source": [
    "# What is a String?<a name=\"what-is-a-string\"></a>\n",
    "\n",
    "A string in Python is an **immutable sequence** of Unicode characters. Strings are used to represent text-based data and are one of the most fundamental data types in Python.\n",
    "\n",
    "```python\n",
    "# Basic string syntax\n",
    "my_string = \"Hello, World!\"\n",
    "another_string = 'Python Programming'"
   ]
  },
  {
   "cell_type": "markdown",
   "id": "7f1e0254",
   "metadata": {},
   "source": [
    "# Key Characteristics<a name=\"key-characteristics\"></a>\n",
    "Immutable: Cannot be changed after creation (operations return new strings)\n",
    "\n",
    "Ordered: Characters maintain their sequence position\n",
    "\n",
    "Indexable: Characters can be accessed by their position\n",
    "\n",
    "Iterable: Can be looped through character by character\n",
    "\n",
    "Unicode support: Can represent characters from any language\n",
    "\n"
   ]
  },
  {
   "cell_type": "markdown",
   "id": "194884f6",
   "metadata": {},
   "source": [
    "# Creating Strings<a name=\"creating-strings\"></a>"
   ]
  },
  {
   "cell_type": "code",
   "execution_count": null,
   "id": "7f43903a",
   "metadata": {},
   "outputs": [
    {
     "name": "stdout",
     "output_type": "stream",
     "text": [
      "this is \n",
      "avind mehta form UP.\n"
     ]
    }
   ],
   "source": [
    "# Method 1 using single quotes ' '\n",
    "single_quoted='Hellow world!'\n",
    "\n",
    "# Method 2 using double quotes \" \"\n",
    "double_quoted=\"Hello world!\"\n",
    "\n",
    "# Method 3 using thriple double quotes for multiple lines \n",
    "\n",
    "Multipleline=\"\"\"this is \n",
    "avind mehta form UP.\"\"\"\n",
    "print(Multipleline)\n",
    "\n",
    "# Method 4 using string construction \n",
    "num_str=str(45)\n",
    "\n",
    "# Empty string\n",
    "str1=\"\"\n",
    "str2=str()\n"
   ]
  },
  {
   "cell_type": "markdown",
   "id": "d1b1686e",
   "metadata": {},
   "source": [
    "# String Indexing and Slicing<a name=\"string-indexing-and-slicing\"></a>"
   ]
  },
  {
   "cell_type": "code",
   "execution_count": 2,
   "id": "8fab463e",
   "metadata": {},
   "outputs": [
    {
     "name": "stdout",
     "output_type": "stream",
     "text": [
      "gnimmargorp nohtyP\n"
     ]
    }
   ],
   "source": [
    "text=\"Python programming\"\n",
    "# We can access positive and nagative indexing we know that \n",
    "#also with slicing [start:stop:step]\n",
    "\n",
    "# Reverse a string\n",
    "reversed_text = text[::-1]\n",
    "print(reversed_text)"
   ]
  },
  {
   "cell_type": "markdown",
   "id": "526f5cf8",
   "metadata": {},
   "source": [
    "# String Methods<a name=\"string-methods\"></a>"
   ]
  },
  {
   "cell_type": "code",
   "execution_count": null,
   "id": "7e937ab8",
   "metadata": {},
   "outputs": [
    {
     "name": "stdout",
     "output_type": "stream",
     "text": [
      "hello world\n",
      "HELLO WORLD\n",
      "Hello World\n",
      "hELLO WORLD\n",
      "Hello world\n",
      "Hello world\n",
      "Hello world\n"
     ]
    }
   ],
   "source": [
    "text=\"Hello world\"\n",
    "\n",
    "# Case conversion \n",
    "lower_case=text.lower()\n",
    "print(lower_case)\n",
    "print(text.upper())\n",
    "print(text.title())\n",
    "print(text.swapcase())\n",
    "print(text.capitalize())\n",
    "\n",
    "# Whitespace handling\n",
    "stripped=text.strip() #.strip() removes any whitespace characters (spaces, tabs \\t, newlines \\n, carriage returns \\r) from both the beginning and the end of a string.\n",
    "left_stripped=text.lstrip()\n",
    "print(left_stripped)# \"Hello World  \"\n",
    "right_stripped=text.rstrip()# \" Hello World \"\n",
    "print(right_stripped)\n"
   ]
  },
  {
   "cell_type": "code",
   "execution_count": 4,
   "id": "ae09fa7c",
   "metadata": {},
   "outputs": [],
   "source": [
    "text=\"Hello world\"\n",
    "# Searching and checking \n",
    "position=text.find(\"world\") # 9\n",
    "position=text.index('world') # 9 (raises value error if not found)\n",
    "start_with=text.startswith(\"H\") # False (due to leading spaces)\n",
    "ends_with=text.endswith(\"world\") ## False (due to trailing spaces)\n"
   ]
  },
  {
   "cell_type": "code",
   "execution_count": null,
   "id": "8f5cb363",
   "metadata": {},
   "outputs": [
    {
     "name": "stdout",
     "output_type": "stream",
     "text": [
      "hello Python\n"
     ]
    }
   ],
   "source": [
    "text=\"hello world\"\n",
    "# Replacement \n",
    "replace=text.replace(\"world\", \"Python\")\n",
    "print(replace)\n"
   ]
  },
  {
   "cell_type": "code",
   "execution_count": 10,
   "id": "8d9cca34",
   "metadata": {},
   "outputs": [
    {
     "name": "stdout",
     "output_type": "stream",
     "text": [
      "['hello', 'world']\n",
      "hello-world\n"
     ]
    }
   ],
   "source": [
    "# Splitting and joining \n",
    "words=text.split() # or best way is to using strip() words=text.strip().split()\n",
    "\n",
    "print(words)\n",
    "joined=\"-\".join(words)\n",
    "print(joined)"
   ]
  },
  {
   "cell_type": "code",
   "execution_count": 11,
   "id": "2dd0185b",
   "metadata": {},
   "outputs": [
    {
     "name": "stdout",
     "output_type": "stream",
     "text": [
      "['line1', 'line2', 'line3']\n"
     ]
    }
   ],
   "source": [
    "lines = \"line1\\nline2\\nline3\".splitlines()  # [\"line1\", \"line2\", \"line3\"]\n",
    "print(lines)"
   ]
  },
  {
   "cell_type": "code",
   "execution_count": 15,
   "id": "ec35b60a",
   "metadata": {},
   "outputs": [
    {
     "name": "stdout",
     "output_type": "stream",
     "text": [
      "True\n",
      "True\n",
      "True\n",
      "True\n",
      "True\n",
      "True\n"
     ]
    }
   ],
   "source": [
    "# Checking content \n",
    "print(\"abc\".isalpha())\n",
    "print(\"123\".isdigit())\n",
    "print(\"abc123\".isalnum())\n",
    "print(\" \".isspace())\n",
    "print(\"hello\".islower())\n",
    "print(\"HELLO\".isupper())"
   ]
  },
  {
   "cell_type": "code",
   "execution_count": 16,
   "id": "09b23d4b",
   "metadata": {},
   "outputs": [],
   "source": [
    "#Padding and alignment\n",
    "centered = \"hello\".center(11, \"*\")  # \"***hello***\"\n",
    "left_aligned = \"hello\".ljust(10, \"-\")  # \"hello-----\"\n",
    "right_aligned = \"hello\".rjust(10, \"-\") # \"-----hello\"\n",
    "zero_padded = \"42\".zfill(5)       # \"00042\""
   ]
  },
  {
   "cell_type": "code",
   "execution_count": 17,
   "id": "76454525",
   "metadata": {},
   "outputs": [],
   "source": [
    "\n",
    "# Counting and validation\n",
    "count = \"hello world\".count(\"l\")  # 3"
   ]
  },
  {
   "cell_type": "markdown",
   "id": "5064be07",
   "metadata": {},
   "source": [
    "# String Operations<a name=\"string-operations\"></a>"
   ]
  },
  {
   "cell_type": "code",
   "execution_count": 18,
   "id": "9cd1a834",
   "metadata": {},
   "outputs": [
    {
     "name": "stdout",
     "output_type": "stream",
     "text": [
      "H\n",
      "e\n",
      "l\n",
      "l\n",
      "o\n"
     ]
    }
   ],
   "source": [
    "# Concatenation\n",
    "str1 = \"Hello\"\n",
    "str2 = \"World\"\n",
    "combined = str1 + \" \" + str2  # \"Hello World\"\n",
    "\n",
    "# Repetition\n",
    "repeated = \"ha\" * 3  # \"hahaha\"\n",
    "\n",
    "# Membership testing\n",
    "contains = \"ell\" in \"Hello\"  # True\n",
    "not_contains = \"xyz\" not in \"Hello\"  # True\n",
    "\n",
    "# Comparison\n",
    "equals = \"hello\" == \"hello\"  # True\n",
    "not_equals = \"hello\" != \"world\"  # True\n",
    "less_than = \"apple\" < \"banana\"  # True (lexicographical order)\n",
    "\n",
    "# Length\n",
    "length = len(\"Hello\")  # 5\n",
    "\n",
    "# Iteration\n",
    "for char in \"Hello\":\n",
    "    print(char)  # H, e, l, l, o\n",
    "\n",
    "# Minimum and maximum characters\n",
    "min_char = min(\"Hello\")  # 'H'\n",
    "max_char = max(\"Hello\")  # 'o'"
   ]
  },
  {
   "cell_type": "markdown",
   "id": "a3bfab55",
   "metadata": {},
   "source": [
    "# What is a Tuple?<a name=\"what-is-a-tuple\"></a>\n",
    "\n",
    "A tuple in Python is an **ordered, immutable collection** of elements. Tuples are similar to lists but cannot be modified after creation, making them suitable for storing fixed data.\n",
    "\n",
    "```python\n",
    "# Basic tuple syntax\n",
    "my_tuple = (1, 2, 3, 4, 5)\n",
    "mixed_tuple = (1, \"hello\", 3.14, True)\n",
    "single_element = (42,)  # Note the comma for single-element tuples\n"
   ]
  },
  {
   "cell_type": "code",
   "execution_count": null,
   "id": "2c8fc840",
   "metadata": {},
   "outputs": [],
   "source": []
  }
 ],
 "metadata": {
  "kernelspec": {
   "display_name": "base",
   "language": "python",
   "name": "python3"
  },
  "language_info": {
   "codemirror_mode": {
    "name": "ipython",
    "version": 3
   },
   "file_extension": ".py",
   "mimetype": "text/x-python",
   "name": "python",
   "nbconvert_exporter": "python",
   "pygments_lexer": "ipython3",
   "version": "3.11.3"
  }
 },
 "nbformat": 4,
 "nbformat_minor": 5
}
