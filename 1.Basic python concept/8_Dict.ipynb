{
 "cells": [
  {
   "cell_type": "markdown",
   "id": "915d3ee1",
   "metadata": {},
   "source": [
    "# Python Dictionaries: Complete Guide\n",
    "\n",
    "\n",
    "## What is a Dictionary?<a name=\"what-is-a-dictionary\"></a>\n",
    "\n",
    "A dictionary in Python is an **unordered, mutable collection** of key-value pairs. It's also known as an associative array or hash map in other programming languages.\n",
    "\n",
    "```python\n",
    "# Basic dictionary syntax\n",
    "my_dict = {\n",
    "    \"name\": \"Alice\",\n",
    "    \"age\": 30,\n",
    "    \"city\": \"New York\"\n",
    "}"
   ]
  },
  {
   "cell_type": "code",
   "execution_count": 1,
   "id": "1eb28715",
   "metadata": {},
   "outputs": [
    {
     "name": "stdout",
     "output_type": "stream",
     "text": [
      "{'name': 'Arvind', 'Age:': 27, 'city': 'Bangalore'}\n"
     ]
    }
   ],
   "source": [
    "My_dict={\n",
    "    \"name\":\"Arvind\",\n",
    "    \"Age:\":27,\n",
    "    \"city\": \"Bangalore\"\n",
    "}\n",
    "\n",
    "print(My_dict)"
   ]
  },
  {
   "cell_type": "markdown",
   "id": "379c3948",
   "metadata": {},
   "source": [
    "# Key Characteristics<a name=\"key-characteristics\"></a>\n",
    "Unordered: Items don't have a defined order (though Python 3.7+ preserves insertion order)\n",
    "\n",
    "Mutable: You can change, add, or remove items after creation\n",
    "\n",
    "Keys must be unique and immutable (strings, numbers, tuples)\n",
    "\n",
    "Values can be any data type and can be duplicated\n",
    "\n",
    "Implemented as hash tables for efficient lookups"
   ]
  },
  {
   "cell_type": "markdown",
   "id": "b86e87e7",
   "metadata": {},
   "source": [
    "# Creating Dictionaries<a name=\"creating-dictionaries\"></a>"
   ]
  },
  {
   "cell_type": "code",
   "execution_count": 2,
   "id": "56bd698f",
   "metadata": {},
   "outputs": [
    {
     "name": "stdout",
     "output_type": "stream",
     "text": [
      "{'name': 'Arvind', 'age': 45}\n",
      "{'Name': 'Arvind', 'Age': 45}\n"
     ]
    }
   ],
   "source": [
    "# Method 1:Using curly braces\n",
    "Person={\"name\": \"Arvind\",\"age\":45}\n",
    "print(Person)\n",
    "\n",
    "\"\"\"Person={name: \"Arvind\",age:45}\n",
    "This gives error because here name and age treate as variable and that are not defined\n",
    "\"\"\"\n",
    "name=\"Name\"\n",
    "age=\"Age\"\n",
    "Person={name: \"Arvind\",age:45}\n",
    "print(Person)"
   ]
  },
  {
   "cell_type": "code",
   "execution_count": null,
   "id": "48462fda",
   "metadata": {},
   "outputs": [],
   "source": [
    "# Method 2: Using dict constructor\n",
    "Person=dict(name=\"Arvind\", age=45)"
   ]
  },
  {
   "cell_type": "code",
   "execution_count": null,
   "id": "10843a91",
   "metadata": {},
   "outputs": [],
   "source": [
    "# Method 3: From list of tuples \n",
    "\n",
    "Person=dict([(\"name\",\"Arvind\"),(\"age\",23)])\n",
    "print(Person)\n",
    "\n",
    "\"\"\"Person=dict([(\"name\",\"Arvind\",\"Mehta\"),(\"age\",23)])\n",
    "print(Person)\n",
    "\n",
    "this will give error dictionary update sequence element #0 has length 3; 2 is required\n",
    "but we write the same thing this way \n",
    "\n",
    "\"\"\"\n",
    "\n",
    "Person=dict([(\"name\",(\"Arvind\",\"Mehta\")),(\"age\",46)])\n",
    "Person"
   ]
  },
  {
   "cell_type": "code",
   "execution_count": null,
   "id": "8f88ae82",
   "metadata": {},
   "outputs": [],
   "source": [
    "# Method 4: Dictionary Comprehension\n",
    "\n",
    "\"\"\"{key: value for item in iterable}\n",
    "    you can also include the condition \n",
    "\n",
    "    {key: value for item in iterable if condition }\n",
    "\"\"\"\n",
    "\n",
    "square={i:i**2 for i in range(1,6)}\n",
    "print(square)\n",
    "\n",
    "\"\"\" we can do the same thing this way also \"\"\"\n",
    "\n",
    "square={}\n",
    "for i in range(1,6):\n",
    "    square[i]=i**2\n",
    "\n",
    "square"
   ]
  },
  {
   "cell_type": "code",
   "execution_count": 41,
   "id": "517f0b6a",
   "metadata": {},
   "outputs": [
    {
     "name": "stdout",
     "output_type": "stream",
     "text": [
      "Update it dict3\n",
      "a {'a': 0, 'b': 'Arvind', 'c': 'Arvind', 'd': 'Arvind'}\n",
      "b {'a': 'Arvind', 'b': 0, 'c': 'Arvind', 'd': 'Arvind'}\n",
      "c {'a': 'Arvind', 'b': 'Arvind', 'c': 0, 'd': 'Arvind'}\n",
      "d {'a': 'Arvind', 'b': 'Arvind', 'c': 'Arvind', 'd': 0}\n"
     ]
    }
   ],
   "source": [
    "# \"\"\"most importand part it is key must be unique \"\"\"\n",
    "# dict1={i: i*i for i in range(1,11) if i%2==0}\n",
    "# dict1\n",
    "\n",
    "# \"\"\"I want to create 2D dict how can i do \"\"\"\n",
    "list1=[\"a\",\"b\",\"c\",\"d\"]\n",
    "\n",
    "# dict2={}\n",
    "# for i in list1:\n",
    "#     dict2[i]={}\n",
    "#     for j in list1:\n",
    "#         dict2[i][j]=0\n",
    "# # for i,j in dict2.items():\n",
    "# #     print(i,j)\n",
    "\n",
    "dict3={}\n",
    "for i in list1:\n",
    "    dict3[i]={j: 0 for j in list1}\n",
    "\n",
    "# for key, item1 in dict3.items():\n",
    "#     print(key,item1)\n",
    "\n",
    "# for i in dict3:\n",
    "#     for j in dict3:\n",
    "#          print(f\"the value of i is {i} and j is {j}\")\n",
    "#          if i==j:\n",
    "#              dict3[i][j]=2\n",
    "\n",
    "# print(\"Update it dict3\")\n",
    "# for key, item1 in dict3.items():\n",
    "#     print(key,item1)\n",
    "\n",
    "\n",
    "for i,j in dict3.items():\n",
    "    for k in j:\n",
    "        if i!=k:\n",
    "            dict3[i][k]=\"Arvind\"\n",
    "\n",
    "\n",
    "print(\"Update it dict3\")\n",
    "for key, item1 in dict3.items():\n",
    "    print(key,item1)\n",
    "\n"
   ]
  },
  {
   "cell_type": "code",
   "execution_count": null,
   "id": "9b444ad5",
   "metadata": {},
   "outputs": [],
   "source": [
    "# Method 5: Using fromkeys() for default values\n",
    "\n",
    "\n",
    "default_dict=dict.fromkeys([\"a\",\"b\",\"c\"],0)\n",
    "default_dict"
   ]
  },
  {
   "cell_type": "markdown",
   "id": "741affb5",
   "metadata": {},
   "source": [
    "# Accessing Elements<a name=\"accessing-elements\"></a>"
   ]
  },
  {
   "cell_type": "code",
   "execution_count": null,
   "id": "123b5bb3",
   "metadata": {},
   "outputs": [],
   "source": [
    "my_dict={\"Name\":\"Arvind Mehta\",\"Age\":27,\"City\":\"Bangalore\"}\n",
    "# Access using key\n",
    "\n",
    "print(my_dict[\"Name\"])"
   ]
  },
  {
   "cell_type": "code",
   "execution_count": null,
   "id": "ea280652",
   "metadata": {},
   "outputs": [],
   "source": [
    "#Using get() method \n",
    "print(my_dict.get(\"Age\"))\n",
    "\n",
    "print(my_dict.get(\"Country\"))#It is gives None\n",
    "print(my_dict.get(\"Country\",\"India\"))\n",
    "my_dict"
   ]
  },
  {
   "cell_type": "code",
   "execution_count": null,
   "id": "afcb7c88",
   "metadata": {},
   "outputs": [],
   "source": [
    "# Check key is exists !\n",
    "\n",
    "if \"Name\" in my_dict:\n",
    "    print(\"It is exist!\")"
   ]
  },
  {
   "cell_type": "markdown",
   "id": "d2fede9b",
   "metadata": {},
   "source": [
    "# Modifying Dictionaries<a name=\"modifying-dictionaries\"></a>"
   ]
  },
  {
   "cell_type": "code",
   "execution_count": null,
   "id": "3c411c53",
   "metadata": {},
   "outputs": [],
   "source": [
    "# Add and Update the dict\n",
    "\n",
    "my_dict[\"Country\"]=\"India\"\n",
    "my_dict[\"Age\"]=26\n",
    "my_dict"
   ]
  },
  {
   "cell_type": "code",
   "execution_count": null,
   "id": "9ff0b43a",
   "metadata": {},
   "outputs": [],
   "source": [
    "# Update using update() methods\n",
    "\n",
    "my_dict.update({\"Name\":\"Arvind\",\"College\":\"IISc\"})\n",
    "\n",
    "my_dict"
   ]
  },
  {
   "cell_type": "code",
   "execution_count": null,
   "id": "b43a7191",
   "metadata": {},
   "outputs": [],
   "source": [
    "# Remove items\n",
    "\n",
    "del my_dict[\"Country\"] #Remove specific key  and value both\n",
    "print(my_dict)\n",
    "\n",
    "age=my_dict.pop(\"Age\") # Remove and return the  value\n",
    "print(age,my_dict)\n",
    "\n",
    "item=my_dict.popitem() # Remove and return the last item of dict \n",
    "\n",
    "my_dict.clear()"
   ]
  },
  {
   "cell_type": "markdown",
   "id": "338a89b9",
   "metadata": {},
   "source": [
    "# Dictionary Methods<a name=\"dictionary-methods\"></a>"
   ]
  },
  {
   "cell_type": "code",
   "execution_count": null,
   "id": "4ff11db9",
   "metadata": {},
   "outputs": [],
   "source": [
    "my_dict={\"a\":1,\"b\":2,\"c\":3}\n",
    "print(my_dict)\n",
    "\n",
    "# Get all the keys \n",
    "print(my_dict.keys())\n",
    "\n",
    "# Get all the values \n",
    "print(my_dict.values())\n",
    "\n",
    "# Get all keys-Values pair \n",
    "print(my_dict.items())\n",
    "\n",
    "# Copy dict (shallow copy)\n",
    "new_dict=my_dict.copy()\n",
    "print(new_dict)\n",
    "\n",
    "# Set defualt value\n",
    "value=new_dict.setdefault(\"d\",4) #  it also return the value 4\n",
    "print(value)\n",
    "new_dict\n",
    "\n",
    "# Merge the dict\n",
    "merge=my_dict|new_dict\n",
    "print(merge)\n",
    "\n",
    "# Update the dict\n",
    "\n",
    "my_dict |= merge\n",
    "my_dict"
   ]
  },
  {
   "cell_type": "markdown",
   "id": "7e17895f",
   "metadata": {},
   "source": [
    "# Iterating Through Dictionaries<a name=\"iterating-through-dictionaries\"></a>"
   ]
  },
  {
   "cell_type": "code",
   "execution_count": 47,
   "id": "35370c92",
   "metadata": {},
   "outputs": [
    {
     "name": "stdout",
     "output_type": "stream",
     "text": [
      "name Arvind\n",
      "Age 34\n",
      "City Bangalore\n",
      "name Arvind\n",
      "Age 34\n",
      "City Bangalore\n",
      "0: name = Arvind\n",
      "1: Age = 34\n",
      "2: City = Bangalore\n"
     ]
    }
   ],
   "source": [
    "my_dict={\n",
    "    \"name\":\"Arvind\",\n",
    "    \"Age\":34,\n",
    "    \"City\":\"Bangalore\"\n",
    "}\n",
    "my_dict\n",
    "#Iterate through keys (we can also do with values)\n",
    "for key in my_dict.keys():\n",
    "    print(key,my_dict[key])\n",
    "\n",
    "#Iterate through key-value pairs\n",
    "\n",
    "for key, item in my_dict.items():\n",
    "    print(key,item)\n",
    "\n",
    "# Using enumerate() \n",
    "for i, (key,value) in enumerate(my_dict.items()):\n",
    "    print(f\"{i}: {key} = {value}\")"
   ]
  },
  {
   "cell_type": "markdown",
   "id": "a642ae3d",
   "metadata": {},
   "source": [
    "# Dictionary Comprehensions<a name=\"dictionary-comprehensions\"></a>"
   ]
  },
  {
   "cell_type": "code",
   "execution_count": null,
   "id": "e50e289b",
   "metadata": {},
   "outputs": [
    {
     "name": "stdout",
     "output_type": "stream",
     "text": [
      "{1: 136, 2: 170, 3: 204, 4: 238, 5: 272}\n"
     ]
    }
   ],
   "source": [
    "# Create dictionary form list \n",
    "numbers=[1,2,3,4,5]\n",
    "dict1={i: (i+3)*34 for i in numbers}\n",
    "print(dict1)"
   ]
  },
  {
   "cell_type": "code",
   "execution_count": 50,
   "id": "bd6845eb",
   "metadata": {},
   "outputs": [
    {
     "name": "stdout",
     "output_type": "stream",
     "text": [
      "{'c': 3, 'd': 4}\n",
      "{'a': 'odd', 'b': 'even', 'c': 'odd', 'd': 'even'}\n"
     ]
    }
   ],
   "source": [
    "# Filter dictionary \n",
    "dict2={\"a\":1, \"b\":2, \"c\":3,\"d\":4}\n",
    "filter1={k: v for k, v in dict2.items() if v>2}\n",
    "print(filter1)\n",
    "\n",
    "filter2={k: (\"even\" if v%2==0 else \"odd\") for k, v in dict2.items()}\n",
    "print(filter2)"
   ]
  },
  {
   "cell_type": "code",
   "execution_count": 51,
   "id": "d1caf30d",
   "metadata": {},
   "outputs": [
    {
     "name": "stdout",
     "output_type": "stream",
     "text": [
      "{'A': 1, 'B': 4, 'C': 9, 'D': 16}\n"
     ]
    }
   ],
   "source": [
    "# Transform key and value \n",
    "\n",
    "transformed={k.upper(): v**2 for k, v in dict2.items()}\n",
    "print(transformed)"
   ]
  },
  {
   "cell_type": "code",
   "execution_count": 52,
   "id": "4ce7a087",
   "metadata": {},
   "outputs": [
    {
     "name": "stdout",
     "output_type": "stream",
     "text": [
      "{'A': 1, 'B': 2, 'C': 3, 'D': 4}\n"
     ]
    }
   ],
   "source": [
    "# Created form two list \n",
    "list1=['A','B','C','D']\n",
    "list2=[1,2,3,4]\n",
    "dict4={k: v for k, v in zip(list1,list2)}\n",
    "print(dict4)"
   ]
  },
  {
   "cell_type": "markdown",
   "id": "619e3e36",
   "metadata": {},
   "source": [
    "# Nested Dictionaries<a name=\"nested-dictionaries\"></a>"
   ]
  },
  {
   "cell_type": "code",
   "execution_count": 60,
   "id": "c4041dbf",
   "metadata": {},
   "outputs": [
    {
     "name": "stdout",
     "output_type": "stream",
     "text": [
      "{'street': '123,dog colone', 'city': 'bangalore', 'code': '520012'}\n"
     ]
    }
   ],
   "source": [
    "# Creared Nested dictionary \n",
    "\n",
    "users={\n",
    "    \"user1\":{\n",
    "        \"name\":\"Arvind\",\n",
    "        \"age\":27,\n",
    "        \"email\":\"ar.kumar9918@gmail.com\",\n",
    "        \"address\":{\n",
    "            \"street\":\"123,dog colone\",\n",
    "             \"city\":\"bangalore\",\n",
    "             \"code\":\"520012\",\n",
    "        }\n",
    "    },\n",
    "    \"user2\":{\n",
    "        \"name\":\"Rajesh\",\n",
    "        \"age\":50\n",
    "    }\n",
    "}\n",
    "\n",
    "print(users[\"user1\"][\"address\"])"
   ]
  },
  {
   "cell_type": "markdown",
   "id": "ae2c002a",
   "metadata": {},
   "source": [
    "# Common Use Cases<a name=\"common-use-cases\"></a>"
   ]
  },
  {
   "cell_type": "code",
   "execution_count": 67,
   "id": "8b9b2271",
   "metadata": {},
   "outputs": [
    {
     "name": "stdout",
     "output_type": "stream",
     "text": [
      "{'Arvind': 37, 'H': 1, 'e': 1, 'l': 3, 'o': 2, 'w': 1, 'r': 1, 'd': 1, '!': 1}\n"
     ]
    }
   ],
   "source": [
    "# Counting frequency \n",
    "text=\"Hello world!\"\n",
    "freq={}\n",
    "freq[\"Arvind\"]=37\n",
    "for i in text:\n",
    "    if' '!=i:\n",
    "        freq[i]=freq.get(i,0)+1\n",
    "print(freq)"
   ]
  },
  {
   "cell_type": "code",
   "execution_count": 3,
   "id": "4d361763",
   "metadata": {},
   "outputs": [
    {
     "name": "stdout",
     "output_type": "stream",
     "text": [
      "{'name': 'Arvind', 'grade': 'A'}\n"
     ]
    },
    {
     "data": {
      "text/plain": [
       "{'A': ['Arvind', 'Hira'], 'C': ['Ramesh', 'Mukesh']}"
      ]
     },
     "execution_count": 3,
     "metadata": {},
     "output_type": "execute_result"
    }
   ],
   "source": [
    "# 2 Grouping data \n",
    "Students=[\n",
    "    {\"name\":\"Arvind\",\"grade\":\"A\"},\n",
    "    {\"name\":\"Ramesh\",\"grade\":\"C\"},\n",
    "    {\"name\":\"Hira\",\"grade\":\"A\"},\n",
    "    {\"name\":\"Mukesh\",\"grade\":\"C\"},\n",
    "]\n",
    "print(Students[0])\n",
    "#Group by grade \n",
    "grades={}\n",
    "for  student in Students:\n",
    "    grade=student[\"grade\"]\n",
    "    if grade not in grades:\n",
    "        grades[grade]=[]\n",
    "    grades[grade].append(student[\"name\"])\n",
    "    \n",
    "grades"
   ]
  },
  {
   "cell_type": "code",
   "execution_count": null,
   "id": "a888f924",
   "metadata": {},
   "outputs": [],
   "source": []
  }
 ],
 "metadata": {
  "kernelspec": {
   "display_name": "base",
   "language": "python",
   "name": "python3"
  },
  "language_info": {
   "codemirror_mode": {
    "name": "ipython",
    "version": 3
   },
   "file_extension": ".py",
   "mimetype": "text/x-python",
   "name": "python",
   "nbconvert_exporter": "python",
   "pygments_lexer": "ipython3",
   "version": "3.11.3"
  }
 },
 "nbformat": 4,
 "nbformat_minor": 5
}
