{
 "cells": [
  {
   "cell_type": "markdown",
   "id": "a574de31",
   "metadata": {},
   "source": [
    "# What is Object-Oriented Programming?<a name=\"what-is-oop\"></a>\n",
    "\n",
    "Object-Oriented Programming (OOP) is a programming paradigm that organizes software design around objects rather than functions and logic. An object contains both data (attributes) and behavior (methods) that operate on that data.\n",
    "\n",
    "```python\n"
   ]
  },
  {
   "cell_type": "code",
   "execution_count": 1,
   "id": "c76dc552",
   "metadata": {},
   "outputs": [],
   "source": [
    "# Procedural vs OOP approach\n",
    "\n",
    "# Procedural approach\n",
    "def calculate_area(width, height):\n",
    "    return width * height\n",
    "\n",
    "width = 5\n",
    "height = 10\n",
    "area = calculate_area(width, height)\n",
    "\n",
    "# OOP approach\n",
    "class Rectangle:\n",
    "    def __init__(self, width, height):\n",
    "        self.width = width\n",
    "        self.height = height\n",
    "    \n",
    "    def area(self):\n",
    "        return self.width * self.height\n",
    "\n",
    "rect = Rectangle(5, 10)\n",
    "area = rect.area()"
   ]
  },
  {
   "cell_type": "markdown",
   "id": "8c7e3e63",
   "metadata": {},
   "source": [
    "# Core Concepts<a name=\"core-concepts\"></a>\n",
    "Class: Blueprint for creating objects\n",
    "\n",
    "Object: Instance of a class\n",
    "\n",
    "Encapsulation: Bundling data and methods that operate on that data\n",
    "\n",
    "Inheritance: Mechanism to create new classes from existing ones\n",
    "\n",
    "Polymorphism: Ability to present the same interface for different data types\n",
    "\n",
    "Abstraction: Hiding complex implementation details"
   ]
  },
  {
   "cell_type": "markdown",
   "id": "1801d740",
   "metadata": {},
   "source": [
    "# Classes and Objects"
   ]
  },
  {
   "cell_type": "code",
   "execution_count": 1,
   "id": "e4356ff1",
   "metadata": {},
   "outputs": [],
   "source": [
    "# Define class\n",
    "class Dog:\n",
    "    # Class attribute (share by all instanse )\n",
    "    species= \"Canis familiaris\"\n",
    "    "
   ]
  },
  {
   "cell_type": "code",
   "execution_count": 3,
   "id": "de25c361",
   "metadata": {},
   "outputs": [
    {
     "name": "stdout",
     "output_type": "stream",
     "text": [
      "harshit\n",
      "11\n"
     ]
    }
   ],
   "source": [
    "class Dog:\n",
    "    def __init__(self,age, name):\n",
    "        self.age=age\n",
    "        self.name=name\n",
    "\n",
    "my_dog=Dog(11, \"Igris\")\n",
    "your_dog=Dog(5, \"harshit\")\n",
    "\n",
    "print(your_dog.name)\n",
    "print(my_dog.age)"
   ]
  },
  {
   "cell_type": "markdown",
   "id": "b627483c",
   "metadata": {},
   "source": [
    "# Types of Attributes"
   ]
  },
  {
   "cell_type": "markdown",
   "id": "0badbad9",
   "metadata": {},
   "source": [
    "## 1. Instance Attributes\n",
    "\n",
    "    Unique to each object\n",
    "\n",
    "    Defined inside __init__ using self.attribute_name\n",
    "\n"
   ]
  },
  {
   "cell_type": "code",
   "execution_count": 4,
   "id": "70c71fec",
   "metadata": {},
   "outputs": [],
   "source": [
    "class Dog:\n",
    "    def __init__(self, name, age):\n",
    "        self.name = name  # Instance attribute\n",
    "        self.age = age    # Instance attribute"
   ]
  },
  {
   "cell_type": "markdown",
   "id": "078ba181",
   "metadata": {},
   "source": [
    "## Class attribute\n",
    "    Shared by all instances\n",
    "\n",
    "    Defined directly in the class body"
   ]
  },
  {
   "cell_type": "code",
   "execution_count": 6,
   "id": "1cfcaedb",
   "metadata": {},
   "outputs": [],
   "source": [
    "class Dog:\n",
    "    species=\"Canis familiaris\" # Class attribute\n",
    "    def __init__(self,age, name):\n",
    "        self.name=name\n",
    "        self.age=age"
   ]
  },
  {
   "cell_type": "markdown",
   "id": "121b4ef9",
   "metadata": {},
   "source": [
    "# Types of Methods"
   ]
  },
  {
   "cell_type": "markdown",
   "id": "1f73a1ca",
   "metadata": {},
   "source": [
    "## 1. Instance Methods\n",
    "\n",
    "    Most common type\n",
    "\n",
    "    Take self as first parameter\n",
    "\n",
    "    Can access and modify instance attributes"
   ]
  },
  {
   "cell_type": "code",
   "execution_count": 9,
   "id": "498b70b2",
   "metadata": {},
   "outputs": [
    {
     "name": "stdout",
     "output_type": "stream",
     "text": [
      "5\n",
      "Igris\n",
      "11 says woof!\n"
     ]
    }
   ],
   "source": [
    "class Dog:\n",
    "    def __init__(self,name, age):\n",
    "        self.age=age\n",
    "        self.name=name\n",
    "    def bark(self): #Instance Methods\n",
    "        return (f\"{self.name} says woof!\")\n",
    "    \n",
    "    def have_birthday(self):\n",
    "        self.age+=1\n",
    "        return f\"Happy Birthday! {self.name} is now {self.age}\"\n",
    "    \n",
    "\n",
    "my_dog=Dog(11, \"Igris\")\n",
    "your_dog=Dog(5, \"harshit\")\n",
    "\n",
    "print(your_dog.name)\n",
    "print(my_dog.age)\n",
    "print(my_dog.bark())"
   ]
  },
  {
   "cell_type": "markdown",
   "id": "63d54609",
   "metadata": {},
   "source": [
    "## 2. Class Methods\n",
    "\n",
    "    Use @classmethod decorator\n",
    "\n",
    "    Take cls as first parameter\n",
    "\n",
    "    Can access and modify class attributes"
   ]
  },
  {
   "cell_type": "code",
   "execution_count": null,
   "id": "07a69fc9",
   "metadata": {},
   "outputs": [],
   "source": [
    "class Dog:\n",
    "    species=\"German shepherd\"\n",
    "    total_dogs=0\n",
    "\n",
    "    def __init__(self,name, age):\n",
    "        self.name=name\n",
    "        self.age=age\n",
    "        Dog.total_dogs+=1\n",
    "    @classmethod\n",
    "    def get_total_dogs(cls):\n",
    "        return cls.total_dogs\n",
    "    @classmethod\n",
    "    def chnage_species(cls, new_species):\n",
    "        cls.species=new_species\n",
    "    "
   ]
  },
  {
   "cell_type": "markdown",
   "id": "33662043",
   "metadata": {},
   "source": [
    "## 3. Static Methods\n",
    "\n",
    "    Use @staticmethod decorator\n",
    "\n",
    "    Don't take self or cls as parameters\n",
    "\n",
    "    Can't access instance or class attributes\n",
    "\n",
    "    Used for utility functions related to the class"
   ]
  },
  {
   "cell_type": "code",
   "execution_count": 3,
   "id": "cbf097f0",
   "metadata": {},
   "outputs": [
    {
     "name": "stdout",
     "output_type": "stream",
     "text": [
      "hello my is  Arvind\n",
      "None\n"
     ]
    }
   ],
   "source": [
    "class selfish:\n",
    "    @staticmethod\n",
    "    def ini(name):\n",
    "        print(f\"hello my is  {name}\")\n",
    "\n",
    "print(selfish.ini(\"Arvind\"))"
   ]
  },
  {
   "cell_type": "markdown",
   "id": "aa89cb71",
   "metadata": {},
   "source": [
    "# Properties (Getter/Setter Methods)\n",
    "\n",
    "Use properties to control access to attributes:\n"
   ]
  },
  {
   "cell_type": "code",
   "execution_count": 5,
   "id": "0dfdd820",
   "metadata": {},
   "outputs": [
    {
     "name": "stdout",
     "output_type": "stream",
     "text": [
      "The name of the dof is tommy and his age is 7\n",
      "The name of the dof is tommy and his age is 10\n"
     ]
    }
   ],
   "source": [
    "class Dog:\n",
    "    def __init__ (self, name, age):\n",
    "        self.name=name\n",
    "        self._age=age\n",
    "\n",
    "    @property\n",
    "    def age(self):\n",
    "        return self._age\n",
    "    @age.setter\n",
    "    def age(self,value):\n",
    "        if value <=0:\n",
    "            raise ValueError(\"Age can not be <0\")\n",
    "        self._age=value\n",
    "\n",
    "\n",
    "my_dog=Dog(\"tommy\",7)\n",
    "print(f\"The name of the dof is {my_dog.name} and his age is {my_dog.age}\")\n",
    "my_dog.age=10\n",
    "print(f\"The name of the dof is {my_dog.name} and his age is {my_dog.age}\")\n",
    "\n",
    "\n"
   ]
  },
  {
   "cell_type": "code",
   "execution_count": null,
   "id": "0a79a7db",
   "metadata": {},
   "outputs": [],
   "source": []
  }
 ],
 "metadata": {
  "kernelspec": {
   "display_name": "base",
   "language": "python",
   "name": "python3"
  },
  "language_info": {
   "codemirror_mode": {
    "name": "ipython",
    "version": 3
   },
   "file_extension": ".py",
   "mimetype": "text/x-python",
   "name": "python",
   "nbconvert_exporter": "python",
   "pygments_lexer": "ipython3",
   "version": "3.11.3"
  }
 },
 "nbformat": 4,
 "nbformat_minor": 5
}
