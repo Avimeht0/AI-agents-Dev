{
 "cells": [
  {
   "cell_type": "markdown",
   "id": "ee1793d0",
   "metadata": {},
   "source": [
    "# 📘 Iterable in Python\n",
    "\n",
    "In Python, an **iterable** is any object capable of returning its elements one at a time, making it usable in a loop.\n",
    "\n",
    "---\n",
    "\n",
    "## ✅ What is an Iterable?\n",
    "\n",
    "An **iterable** is an object that:\n",
    "- Implements the `__iter__()` method, or\n",
    "- Has a `__getitem__()` method with sequential indexes (starting from 0)\n",
    "\n",
    "This allows it to be passed to the built-in `iter()` function to return an **iterator**.\n",
    "\n",
    "---\n",
    "\n",
    "## 🔁 Examples of Iterables\n",
    "\n",
    "- **List** → `[1, 2, 3]`\n",
    "- **Tuple** → `(4, 5)`\n",
    "- **String** → `\"hello\"`\n",
    "- **Set** → `{10, 20}`\n",
    "- **Dictionary** → `{\"a\": 1, \"b\": 2}`\n",
    "- **File objects**\n",
    "\n",
    "---\n",
    "\n",
    "## 🔄 How Iteration Works\n",
    "\n",
    "Python behind a `for` loop:\n",
    "\n",
    "```python\n",
    "for item in iterable:\n",
    "    print(item)\n"
   ]
  },
  {
   "cell_type": "code",
   "execution_count": 1,
   "id": "623bab19",
   "metadata": {},
   "outputs": [
    {
     "name": "stdout",
     "output_type": "stream",
     "text": [
      "0\n",
      "1\n",
      "2\n"
     ]
    }
   ],
   "source": [
    "class MyRange:\n",
    "    def __init__(self, end):\n",
    "        self.current = 0\n",
    "        self.end = end\n",
    "\n",
    "    def __iter__(self):\n",
    "        return self\n",
    "\n",
    "    def __next__(self):\n",
    "        if self.current >= self.end:\n",
    "            raise StopIteration\n",
    "        self.current += 1\n",
    "        return self.current - 1\n",
    "\n",
    "for num in MyRange(3):\n",
    "    print(num)  # Outputs: 0, 1, 2\n"
   ]
  },
  {
   "cell_type": "code",
   "execution_count": 2,
   "id": "d9386b31",
   "metadata": {},
   "outputs": [
    {
     "name": "stdout",
     "output_type": "stream",
     "text": [
      "1\n",
      "2\n",
      "3\n",
      "4\n",
      "5\n",
      "6\n"
     ]
    }
   ],
   "source": [
    "\"\"\"Write a program which print n natural numbers \"\"\"\n",
    "n=6\n",
    "for i in range(1,n+1):\n",
    "    print(i)"
   ]
  },
  {
   "cell_type": "markdown",
   "id": "d0ec6821",
   "metadata": {},
   "source": [
    "\n",
    "## ✅ What is a List?\n",
    "- A **list** is a built-in Python data structure used to store **multiple items** in a **single variable**.\n",
    "- Lists are **ordered**, **mutable**, and can contain **duplicate values**.\n",
    "\n",
    "```python\n",
    "my_list = [10, 20, 30, \"hello\", True]\n"
   ]
  },
  {
   "cell_type": "code",
   "execution_count": 3,
   "id": "7b33a6c0",
   "metadata": {},
   "outputs": [
    {
     "name": "stdout",
     "output_type": "stream",
     "text": [
      "[10, 20, 30, 'hello', True]\n"
     ]
    }
   ],
   "source": [
    "my_list = [10, 20, 30, \"hello\", True]\n",
    "print(my_list)"
   ]
  },
  {
   "cell_type": "code",
   "execution_count": 7,
   "id": "c55bb38c",
   "metadata": {},
   "outputs": [
    {
     "data": {
      "text/plain": [
       "[2, 4, 56, 57, 58, 59, 60, 61, 62, 63, 64, 6, 34]"
      ]
     },
     "execution_count": 7,
     "metadata": {},
     "output_type": "execute_result"
    }
   ],
   "source": [
    "\"\"\"Packing and unpacking \"\"\"\n",
    "\n",
    "l1=[2,4,6]\n",
    "a,b,c=l1 #that is unpacking \n",
    "\n",
    "l2=[a,c,c] # that is packing \n",
    "l2\n",
    "\n",
    "l1.append(34)\n",
    "\n",
    "for i in range (56, 65):\n",
    "    l1.insert(i-54,i)\n",
    "\n",
    "l1"
   ]
  },
  {
   "cell_type": "code",
   "execution_count": 8,
   "id": "c70197d0",
   "metadata": {},
   "outputs": [
    {
     "name": "stdout",
     "output_type": "stream",
     "text": [
      "64\n",
      "2\n",
      "None\n",
      "[2, 4, 6, 34, 56, 57, 58, 59, 60, 61, 62, 63, 64]\n"
     ]
    }
   ],
   "source": [
    "\"\"\" some predefine function for list \"\"\"\n",
    "print(max(l1))\n",
    "print(min(l1))\n",
    "print(l1.sort()) #this sort the l1 list\n",
    "print(sorted(l1)) # this give the sorted way output but not sort the l1"
   ]
  },
  {
   "cell_type": "code",
   "execution_count": null,
   "id": "8454c304",
   "metadata": {},
   "outputs": [],
   "source": []
  }
 ],
 "metadata": {
  "kernelspec": {
   "display_name": "base",
   "language": "python",
   "name": "python3"
  },
  "language_info": {
   "codemirror_mode": {
    "name": "ipython",
    "version": 3
   },
   "file_extension": ".py",
   "mimetype": "text/x-python",
   "name": "python",
   "nbconvert_exporter": "python",
   "pygments_lexer": "ipython3",
   "version": "3.11.3"
  }
 },
 "nbformat": 4,
 "nbformat_minor": 5
}
