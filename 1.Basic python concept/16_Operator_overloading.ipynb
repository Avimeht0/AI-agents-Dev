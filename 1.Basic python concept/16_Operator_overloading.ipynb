{
 "cells": [
  {
   "cell_type": "markdown",
   "id": "412618c9",
   "metadata": {},
   "source": [
    "# Operator Overloading in Python\n",
    "\n",
    "Operator overloading allows you to define how operators (like +, -, *, etc.) work with your custom classes. This makes your objects behave more like built-in types."
   ]
  },
  {
   "cell_type": "markdown",
   "id": "8791b51a",
   "metadata": {},
   "source": [
    "## 1. Arithmetic Operators"
   ]
  },
  {
   "cell_type": "code",
   "execution_count": null,
   "id": "d4796059",
   "metadata": {},
   "outputs": [
    {
     "name": "stdout",
     "output_type": "stream",
     "text": [
      "(7, 10)\n"
     ]
    }
   ],
   "source": [
    "class vector:\n",
    "    def __init__(self,x, y):\n",
    "        self.x=x\n",
    "        self.y=y\n",
    "    # Addition: v1+v2\n",
    "    def __add__(self,others):\n",
    "        return self.x + others.x, self.y+others.y\n",
    "\n",
    "    #subtaction \n",
    "    def __sub__(self,others):\n",
    "        pass\n",
    "\n",
    "    # mul,turediv,\n",
    "    \n",
    "v1=vector(2,3)\n",
    "v2=vector(5,7)\n",
    "print(v1+v2)"
   ]
  },
  {
   "cell_type": "code",
   "execution_count": null,
   "id": "9870d64e",
   "metadata": {},
   "outputs": [],
   "source": []
  }
 ],
 "metadata": {
  "kernelspec": {
   "display_name": "base",
   "language": "python",
   "name": "python3"
  },
  "language_info": {
   "codemirror_mode": {
    "name": "ipython",
    "version": 3
   },
   "file_extension": ".py",
   "mimetype": "text/x-python",
   "name": "python",
   "nbconvert_exporter": "python",
   "pygments_lexer": "ipython3",
   "version": "3.11.3"
  }
 },
 "nbformat": 4,
 "nbformat_minor": 5
}
