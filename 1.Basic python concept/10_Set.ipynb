{
 "cells": [
  {
   "cell_type": "markdown",
   "id": "70d461ce",
   "metadata": {},
   "source": [
    "## What is a Set?<a name=\"what-is-a-set\"></a>\n",
    "\n",
    "A set in Python is an **unordered, mutable collection** of unique, hashable elements. Sets are optimized for membership testing and mathematical set operations.\n",
    "\n",
    "```python\n",
    "# Basic set syntax\n",
    "my_set = {1, 2, 3, 4, 5}\n",
    "mixed_set = {1, \"hello\", 3.14, (1, 2)}  # Note: tuples are hashable, lists are not"
   ]
  },
  {
   "cell_type": "code",
   "execution_count": 1,
   "id": "5fe28c4a",
   "metadata": {},
   "outputs": [
    {
     "name": "stdout",
     "output_type": "stream",
     "text": [
      "<class 'set'>\n"
     ]
    }
   ],
   "source": [
    "my_set={1,2,34,5}\n",
    "print(type(my_set))"
   ]
  },
  {
   "cell_type": "markdown",
   "id": "962d27ea",
   "metadata": {},
   "source": [
    "# Key Characteristics<a name=\"key-characteristics\"></a>\n",
    "Unordered: Elements don't maintain insertion order (though Python 3.7+ may preserve order in practice)\n",
    "\n",
    "Mutable: You can add and remove elements (except frozen sets)\n",
    "\n",
    "Unique elements: No duplicate values allowed\n",
    "\n",
    "Hashable elements: All elements must be immutable (strings, numbers, tuples)\n",
    "\n",
    "Optimized for membership testing: Very fast in operations"
   ]
  },
  {
   "cell_type": "code",
   "execution_count": 4,
   "id": "981bbea8",
   "metadata": {},
   "outputs": [
    {
     "name": "stdout",
     "output_type": "stream",
     "text": [
      "{1, 2, 34, 5, 't'}\n",
      "{1, 2, 34, 5}\n",
      "true\n"
     ]
    }
   ],
   "source": [
    "# Add elements in set \n",
    "my_set.add(\"t\")\n",
    "print(my_set)\n",
    "\n",
    "# Remove elements form set\n",
    "my_set.remove(\"t\")\n",
    "print(my_set)\n",
    "\n",
    "# Check element in set or not \n",
    "\n",
    "if 5 in my_set:\n",
    "    print(\"true\")"
   ]
  },
  {
   "cell_type": "markdown",
   "id": "18f12515",
   "metadata": {},
   "source": [
    "# Creating Sets<a name=\"creating-sets\"></a>"
   ]
  },
  {
   "cell_type": "code",
   "execution_count": 5,
   "id": "8a221694",
   "metadata": {},
   "outputs": [],
   "source": [
    "# Method 1: Using curly braces\n",
    "numbers = {1, 2, 3, 4, 5}\n",
    "fruits = {\"apple\", \"banana\", \"cherry\"}\n",
    "\n",
    "# Method 2: Using set() constructor\n",
    "numbers = set([1, 2, 3, 4, 5])  # From a list\n",
    "chars = set(\"hello\")  # Creates {'h', 'e', 'l', 'o'} (note: only one 'l')\n",
    "\n",
    "# Method 3: Creating empty sets\n",
    "empty_set = set()  # Note: {} creates an empty dictionary, not set!\n",
    "empty_set = set()\n",
    "\n",
    "# Method 4: Set with comprehension\n",
    "squares = {x*x for x in range(1, 6)}  # {1, 4, 9, 16, 25}\n",
    "\n",
    "# Method 5: From other iterables\n",
    "from_tuple = set((1, 2, 3, 2, 1))  # {1, 2, 3} (duplicates removed)\n",
    "from_string = set(\"programming\")  # {'p', 'r', 'o', 'g', 'a', 'm', 'i', 'n'}"
   ]
  },
  {
   "cell_type": "markdown",
   "id": "1ad43fb1",
   "metadata": {},
   "source": [
    "# Accessing Elements<a name=\"accessing-elements\"></a>"
   ]
  },
  {
   "cell_type": "code",
   "execution_count": 6,
   "id": "048ac2e6",
   "metadata": {},
   "outputs": [
    {
     "name": "stdout",
     "output_type": "stream",
     "text": [
      "yes\n",
      "apple\n",
      "cherry\n",
      "banana\n"
     ]
    }
   ],
   "source": [
    "my_set={\"apple\", \"banana\", \"cherry\"}\n",
    "\n",
    "# Can not access by the index \n",
    "\n",
    "# Check element exist or not \n",
    "if \"banana\" in my_set:\n",
    "    print(\"yes\")\n",
    "\n",
    "\n",
    "# Iterate  through  elements\n",
    "\n",
    "for item in my_set:\n",
    "    print(item)"
   ]
  },
  {
   "cell_type": "markdown",
   "id": "8eaa3137",
   "metadata": {},
   "source": [
    "# Modifying Sets<a name=\"modifying-sets\"></a>"
   ]
  },
  {
   "cell_type": "code",
   "execution_count": 16,
   "id": "3e664661",
   "metadata": {},
   "outputs": [
    {
     "name": "stdout",
     "output_type": "stream",
     "text": [
      "{1, 2, 3, 4, 5, 6}\n",
      "{1, 2, 3, 4, 5, 6, 7, 8, 9, 10}\n",
      "1\n"
     ]
    }
   ],
   "source": [
    "my_set={1,2,3}\n",
    "\n",
    "# Add elements \n",
    "my_set.add(4)\n",
    "\n",
    "# Add multiple elements \n",
    "\n",
    "my_set.update([5,4,6])\n",
    "print(my_set)\n",
    "my_set.update({7,8},[9,10])\n",
    "print(my_set)\n",
    "\n",
    "# Remove elements\n",
    "my_set.remove(10)\n",
    "\n",
    "popped=my_set.pop()\n",
    "\n",
    "print(popped)\n",
    "\n",
    "my_set.clear()"
   ]
  },
  {
   "cell_type": "markdown",
   "id": "adbe13f0",
   "metadata": {},
   "source": [
    "# Set Methods<a name=\"set-methods\"></a>"
   ]
  },
  {
   "cell_type": "code",
   "execution_count": 17,
   "id": "1aed84ec",
   "metadata": {},
   "outputs": [],
   "source": [
    "set_a = {1, 2, 3, 4, 5}\n",
    "set_b = {4, 5, 6, 7, 8}\n",
    "\n",
    "# Union (elements in either set)\n",
    "union = set_a.union(set_b)        # {1, 2, 3, 4, 5, 6, 7, 8}\n",
    "union = set_a | set_b             # Alternative syntax\n",
    "\n",
    "# Intersection (elements in both sets)\n",
    "intersection = set_a.intersection(set_b)  # {4, 5}\n",
    "intersection = set_a & set_b               # Alternative syntax\n",
    "\n",
    "# Difference (elements in set_a but not set_b)\n",
    "difference = set_a.difference(set_b)  # {1, 2, 3}\n",
    "difference = set_a - set_b            # Alternative syntax\n",
    "\n",
    "# Symmetric difference (elements in either set but not both)\n",
    "sym_diff = set_a.symmetric_difference(set_b)  # {1, 2, 3, 6, 7, 8}\n",
    "sym_diff = set_a ^ set_b                      # Alternative syntax\n",
    "\n",
    "# Subset and superset checks\n",
    "set_c = {1, 2}\n",
    "is_subset = set_c.issubset(set_a)      # True\n",
    "is_subset = set_c <= set_a             # Alternative syntax\n",
    "\n",
    "is_superset = set_a.issuperset(set_c)  # True\n",
    "is_superset = set_a >= set_c           # Alternative syntax\n",
    "\n",
    "# Proper subset/superset (strict, sets cannot be equal)\n",
    "proper_subset = set_c < set_a          # True\n",
    "proper_superset = set_a > set_c        # True\n",
    "\n",
    "# Disjoint check (no common elements)\n",
    "set_d = {6, 7}\n",
    "are_disjoint = set_a.isdisjoint(set_d)  # True"
   ]
  },
  {
   "cell_type": "code",
   "execution_count": null,
   "id": "59f5db65",
   "metadata": {},
   "outputs": [],
   "source": []
  }
 ],
 "metadata": {
  "kernelspec": {
   "display_name": "base",
   "language": "python",
   "name": "python3"
  },
  "language_info": {
   "codemirror_mode": {
    "name": "ipython",
    "version": 3
   },
   "file_extension": ".py",
   "mimetype": "text/x-python",
   "name": "python",
   "nbconvert_exporter": "python",
   "pygments_lexer": "ipython3",
   "version": "3.11.3"
  }
 },
 "nbformat": 4,
 "nbformat_minor": 5
}
