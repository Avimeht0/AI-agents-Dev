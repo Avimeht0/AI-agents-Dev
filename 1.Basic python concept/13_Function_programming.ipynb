{
 "cells": [
  {
   "cell_type": "markdown",
   "id": "f55b9d3d",
   "metadata": {},
   "source": [
    "# What is Functional Programming?<a name=\"what-is-functional-programming\"></a>\n",
    "\n",
    "Functional Programming (FP) is a programming paradigm that treats computation as the evaluation of mathematical functions and avoids changing state and mutable data. Python supports functional programming concepts while being a multi-paradigm language.\n",
    "\n",
    "```python\n",
    "# Functional vs imperative approach\n",
    "\n",
    "# Imperative (how to do it)\n",
    "numbers = [1, 2, 3, 4, 5]\n",
    "squared = []\n",
    "for num in numbers:\n",
    "    squared.append(num * num)\n",
    "\n",
    "# Functional (what to do)\n",
    "numbers = [1, 2, 3, 4, 5]\n",
    "squared = list(map(lambda x: x * x, numbers))"
   ]
  },
  {
   "cell_type": "markdown",
   "id": "9c2dbc9b",
   "metadata": {},
   "source": [
    "# Core Concepts<a name=\"core-concepts\"></a>\n",
    "Pure Functions: Same input always gives same output, no side effects\n",
    "\n",
    "Immutability: Data cannot be changed after creation\n",
    "\n",
    "First-Class Functions: Functions can be assigned to variables, passed as arguments, returned from other functions\n",
    "\n",
    "Higher-Order Functions: Functions that take other functions as arguments or return functions\n",
    "\n",
    "Function Composition: Combining simple functions to build more complex ones\n",
    "\n",
    "Recursion: Functions that call themselves instead of using loops"
   ]
  },
  {
   "cell_type": "markdown",
   "id": "e26ae20c",
   "metadata": {},
   "source": [
    "# First class functions "
   ]
  },
  {
   "cell_type": "code",
   "execution_count": 3,
   "id": "16e2d2fd",
   "metadata": {},
   "outputs": [
    {
     "name": "stdout",
     "output_type": "stream",
     "text": [
      "Hello, Arvind!\n",
      "Hello, Sidharth!\n",
      "Hello, ravi!\n"
     ]
    }
   ],
   "source": [
    "# Function as object \n",
    "def greet(name):\n",
    "    return f\"Hello, {name}!\"\n",
    "\n",
    "# Assign fuction to variable \n",
    "say_hello=greet\n",
    "print(say_hello(\"Arvind\"))\n",
    "\n",
    "# Store fuction in Data structure \n",
    "\n",
    "functions=[greet,str.upper,str.lower]\n",
    "result=functions[0](\"Sidharth\")\n",
    "print(result)\n",
    "\n",
    "# Pass function as argument \n",
    "name=\"ravi\"\n",
    "def apply_function(greet,name):\n",
    "    return greet(name)\n",
    "\n",
    "print(apply_function(greet,name))"
   ]
  },
  {
   "cell_type": "code",
   "execution_count": 2,
   "id": "a6e97c43",
   "metadata": {},
   "outputs": [
    {
     "name": "stdout",
     "output_type": "stream",
     "text": [
      "15\n",
      "30\n"
     ]
    }
   ],
   "source": [
    "# Return function from functoin \n",
    "\n",
    "def create_multiplier(factor):\n",
    "    def multiplier(x):\n",
    "        return x*factor\n",
    "    return multiplier\n",
    "\n",
    "double=create_multiplier(3)\n",
    "print(double(5))\n",
    "\n",
    "\n",
    "# we can call it like this \n",
    "\n",
    "print(create_multiplier(6)(5))"
   ]
  },
  {
   "cell_type": "markdown",
   "id": "98e12659",
   "metadata": {},
   "source": [
    "# Higher-Order Functions"
   ]
  },
  {
   "cell_type": "code",
   "execution_count": 3,
   "id": "ca23af3a",
   "metadata": {},
   "outputs": [
    {
     "name": "stdout",
     "output_type": "stream",
     "text": [
      "[1, 4, 9, 16, 25]\n",
      "[18, 36, 54, 72, 90]\n"
     ]
    }
   ],
   "source": [
    "# Function that take other fuctions as argument \n",
    "\n",
    "def process_data(data, processor):\n",
    "    return [processor(item) for item in data]\n",
    "\n",
    "data=list(range(1,6))\n",
    "squared=process_data(data,lambda x:x*x )\n",
    "print(squared)\n",
    "\n",
    "\n",
    "# we can also do like this\n",
    "pr=lambda x: x*18\n",
    "print(process_data(data,pr))"
   ]
  },
  {
   "cell_type": "code",
   "execution_count": 14,
   "id": "582f493c",
   "metadata": {},
   "outputs": [
    {
     "name": "stdout",
     "output_type": "stream",
     "text": [
      "Finished\n",
      "slow_function took 2.0003 seconds\n"
     ]
    }
   ],
   "source": [
    "# Decorators are higher-order functions\n",
    "\n",
    "def timere(func):\n",
    "    def wrapper(*args, **kwargs):\n",
    "        import time \n",
    "        start=time.time()\n",
    "        result=func(*args,**kwargs)\n",
    "        end=time.time()\n",
    "        print(f\"{func.__name__} took {end-start:.4f} seconds\")\n",
    "        return result\n",
    "    return wrapper\n",
    "\n",
    "def slow_function():\n",
    "    import time\n",
    "    time.sleep(2)\n",
    "    print(\"Finished\")\n",
    "\n",
    "\n",
    "decorated=timere(slow_function)\n",
    "decorated()"
   ]
  },
  {
   "cell_type": "code",
   "execution_count": 15,
   "id": "4ae86394",
   "metadata": {},
   "outputs": [
    {
     "name": "stdout",
     "output_type": "stream",
     "text": [
      "Finished\n",
      "slow_function took 2.0003 seconds\n"
     ]
    }
   ],
   "source": [
    "@timere\n",
    "def slow_function():\n",
    "    import time\n",
    "    time.sleep(2)\n",
    "    print(\"Finished\")\n",
    "\n",
    "slow_function()\n"
   ]
  },
  {
   "cell_type": "code",
   "execution_count": 27,
   "id": "8546aec1",
   "metadata": {},
   "outputs": [],
   "source": [
    "# Memoization of pure functions\n",
    "def memoize(func):\n",
    "    cache = {}\n",
    "    def wrapper(*args):\n",
    "        if args not in cache:\n",
    "            cache[args] = func(*args)\n",
    "        return cache[args]\n",
    "    return wrapper\n",
    "\n",
    "@memoize\n",
    "def fibonacci(n):\n",
    "    if n <= 1:\n",
    "        return n\n",
    "    return fibonacci(n-1) + fibonacci(n-2)"
   ]
  },
  {
   "cell_type": "markdown",
   "id": "832e7dbd",
   "metadata": {},
   "source": [
    "# What is a Lambda Function?\n",
    "\n",
    "A lambda function is a short, one-line function in Python that:\n",
    "\n",
    "Has no name (anonymous)\n",
    "\n",
    "Is used for simple operations\n",
    "\n",
    "Is often used once or passed into another function\n"
   ]
  },
  {
   "cell_type": "code",
   "execution_count": 29,
   "id": "6ce6d0e9",
   "metadata": {},
   "outputs": [
    {
     "name": "stdout",
     "output_type": "stream",
     "text": [
      "5\n",
      "10\n"
     ]
    }
   ],
   "source": [
    "# Basic syntax :\n",
    "#lambda arguments: expression\n",
    "\n",
    "add=lambda a,b:a+b\n",
    "print(add(2,3))\n",
    "\n",
    "print((lambda x:x*2)(5))"
   ]
  },
  {
   "cell_type": "markdown",
   "id": "ef9c2a11",
   "metadata": {},
   "source": [
    "# What is map()?\n",
    "\n",
    "map() lets you apply a function to every item in a list (or iterable), and gives you a new result for each one.\n",
    "\n",
    "✅ Syntax:\n",
    "map(function, iterable)\n",
    "\n",
    "\n",
    "function – the function you want to apply\n",
    "\n",
    "iterable – like a list, tuple, or string (something you can loop over)\n",
    "\n",
    "⚠️ It returns a map object, so you usually convert it to a list or tuple to see the result."
   ]
  },
  {
   "cell_type": "code",
   "execution_count": 8,
   "id": "10fff4cb",
   "metadata": {},
   "outputs": [
    {
     "name": "stdout",
     "output_type": "stream",
     "text": [
      "<map object at 0x76a4f47b0460>\n"
     ]
    },
    {
     "data": {
      "text/plain": [
       "[1, 4, 9, 16, 25]"
      ]
     },
     "execution_count": 8,
     "metadata": {},
     "output_type": "execute_result"
    }
   ],
   "source": [
    "def square(x):\n",
    "    return x*x\n",
    "\n",
    "list1=tuple(range(1,6))\n",
    "list_square=map(square,list1)\n",
    "print(list_square)\n",
    "list(list_square)"
   ]
  },
  {
   "cell_type": "markdown",
   "id": "ad49eccd",
   "metadata": {},
   "source": [
    "# filter \n",
    "Keeps only the items in the iterable where the function returns True."
   ]
  },
  {
   "cell_type": "code",
   "execution_count": 10,
   "id": "8694e591",
   "metadata": {},
   "outputs": [
    {
     "name": "stdout",
     "output_type": "stream",
     "text": [
      "[2, 4, 6]\n",
      "[False, True, False, True, False, True]\n"
     ]
    }
   ],
   "source": [
    "def is_even(x):\n",
    "    return x%2==0\n",
    "list1=list(range(1,7))\n",
    "result=filter(is_even, list1)\n",
    "print(list(result))\n",
    "\n",
    "result=map(is_even, list1)\n",
    "print(list(result))\n"
   ]
  },
  {
   "cell_type": "markdown",
   "id": "22ad2677",
   "metadata": {},
   "source": [
    "# 🔄 1. What is an Iterator?\n",
    "✅ Definition:\n",
    "\n",
    "An iterator is any object in Python that:\n",
    "\n",
    "Can be looped over (like with a for loop), and\n",
    "\n",
    "Keeps track of its current position in the loop,\n",
    "\n",
    "Gives the next value when you ask for it (using next()),\n",
    "\n",
    "Raises StopIteration when it has no more items."
   ]
  },
  {
   "cell_type": "code",
   "execution_count": 12,
   "id": "3b0bcbfc",
   "metadata": {},
   "outputs": [
    {
     "name": "stdout",
     "output_type": "stream",
     "text": [
      "1\n",
      "2\n"
     ]
    }
   ],
   "source": [
    "my_list=list(range(1,10))\n",
    "it=iter(my_list)\n",
    "print(next(it))\n",
    "print(it.__next__())"
   ]
  },
  {
   "cell_type": "code",
   "execution_count": 14,
   "id": "cb1e1a04",
   "metadata": {},
   "outputs": [
    {
     "name": "stdout",
     "output_type": "stream",
     "text": [
      "0\n",
      "1\n",
      "4\n"
     ]
    }
   ],
   "source": [
    "gen = (x * x for x in range(5))  # generator, not list\n",
    "\n",
    "print(next(gen))  # ➜ 0\n",
    "print(next(gen))  # ➜ 1\n",
    "print(gen.__next__())\n"
   ]
  },
  {
   "cell_type": "code",
   "execution_count": null,
   "id": "ba53356d",
   "metadata": {},
   "outputs": [],
   "source": []
  }
 ],
 "metadata": {
  "kernelspec": {
   "display_name": "base",
   "language": "python",
   "name": "python3"
  },
  "language_info": {
   "codemirror_mode": {
    "name": "ipython",
    "version": 3
   },
   "file_extension": ".py",
   "mimetype": "text/x-python",
   "name": "python",
   "nbconvert_exporter": "python",
   "pygments_lexer": "ipython3",
   "version": "3.11.3"
  }
 },
 "nbformat": 4,
 "nbformat_minor": 5
}
