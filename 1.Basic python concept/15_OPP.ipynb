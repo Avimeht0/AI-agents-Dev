{
 "cells": [
  {
   "cell_type": "markdown",
   "id": "8a449f2c",
   "metadata": {},
   "source": [
    "# Constructors and Initialization<a name=\"constructors-and-initialization\"></a>"
   ]
  },
  {
   "cell_type": "code",
   "execution_count": 1,
   "id": "1136ff4a",
   "metadata": {},
   "outputs": [],
   "source": [
    "class person:\n",
    "    # __inti__ is constructor method \n",
    "    def __init__(self, name, age, city=\"Unknown\"):\n",
    "        self.name=name\n",
    "        self.age=age\n",
    "        self.city=city\n",
    "        self.created_at=\"now\"\n",
    "\n",
    "    "
   ]
  },
  {
   "cell_type": "code",
   "execution_count": 2,
   "id": "9d041168",
   "metadata": {},
   "outputs": [
    {
     "name": "stdout",
     "output_type": "stream",
     "text": [
      "('Arvind', 44, 'bangalore')\n"
     ]
    }
   ],
   "source": [
    "person1=(\"Arvind\",44,\"bangalore\")\n",
    "print(person1)"
   ]
  },
  {
   "cell_type": "code",
   "execution_count": null,
   "id": "c5d1bba0",
   "metadata": {},
   "outputs": [],
   "source": [
    "class person:\n",
    "    # __inti__ is constructor method \n",
    "    def __init__(self, name, age, city=\"Unknown\"):\n",
    "        self.name=name\n",
    "        self.age=age\n",
    "        self.city=city\n",
    "        self.created_at=\"now\"\n",
    "#\n",
    "    def __str__(self):\n",
    "        return f\"person(name={self.name}, age={self.age}, city={self.city})\"\n",
    "    \n",
    "    def __del__(self):\n",
    "        print(f\"Resource {self.name} destroyed\")"
   ]
  },
  {
   "cell_type": "code",
   "execution_count": 6,
   "id": "332dbf8c",
   "metadata": {},
   "outputs": [
    {
     "name": "stdout",
     "output_type": "stream",
     "text": [
      "('Arvind', 44, 'bangalore')\n"
     ]
    }
   ],
   "source": [
    "person1=(\"Arvind\",44,\"bangalore\")\n",
    "print(person1)"
   ]
  },
  {
   "cell_type": "markdown",
   "id": "914b2d3f",
   "metadata": {},
   "source": [
    "# 🔷 What is Inheritance?\n",
    "\n",
    "Inheritance is when a class (called the child or subclass) inherits properties and behaviors (attributes and methods) from another class (called the parent or base class).\n",
    "\n",
    "This lets you reuse code and build hierarchies of classes in a clean and organized way."
   ]
  },
  {
   "cell_type": "code",
   "execution_count": 7,
   "id": "b1c9a94f",
   "metadata": {},
   "outputs": [
    {
     "name": "stdout",
     "output_type": "stream",
     "text": [
      "Tommy says woof!\n"
     ]
    }
   ],
   "source": [
    "# Parent class\n",
    "class Animal:\n",
    "    def __init__(self,name):\n",
    "        self.name=name\n",
    "\n",
    "    def speak(self):\n",
    "        print(\"I am an Animal\")\n",
    "\n",
    "# Childe class\n",
    "class Dog(Animal):\n",
    "    def speak(self):\n",
    "        print(f\"{self.name} says woof!\")\n",
    "d1=Dog(\"Tommy\")\n",
    "d1.speak()"
   ]
  },
  {
   "cell_type": "markdown",
   "id": "40847b38",
   "metadata": {},
   "source": [
    "## 🔍 How It Works\n",
    "\n",
    "Dog is a child class of Animal.\n",
    "\n",
    "It inherits everything from Animal (like the __init__ method).\n",
    "\n",
    "It can also override methods (like speak()).\n",
    "\n",
    "You don’t need to rewrite the __init__ method in Dog unless you want to customize it."
   ]
  },
  {
   "cell_type": "markdown",
   "id": "dfec37ed",
   "metadata": {},
   "source": [
    "# Type of inheritance"
   ]
  },
  {
   "cell_type": "markdown",
   "id": "e2567a84",
   "metadata": {},
   "source": [
    "## 1. Single Inheritance"
   ]
  },
  {
   "cell_type": "code",
   "execution_count": 2,
   "id": "b4cf022d",
   "metadata": {},
   "outputs": [],
   "source": [
    "class animal:\n",
    "    def __init__(self, name, species):\n",
    "        self.name=name \n",
    "        self.species=species\n",
    "\n",
    "\n",
    "class dog(animal):\n",
    "    def __init__ (self, name, bread):\n",
    "        super().__init__(name,\"germent\")\n",
    "        self.bread=bread\n"
   ]
  },
  {
   "cell_type": "code",
   "execution_count": 3,
   "id": "0f174dd6",
   "metadata": {},
   "outputs": [],
   "source": [
    "class animal:\n",
    "    def __init__(self, name, species):\n",
    "        self.name=name \n",
    "        self.species=species\n",
    "\n",
    "class dog(animal):\n",
    "    def __init__(self, name, bread):\n",
    "        super().__init__(name, \"german\")\n",
    "        self.bread=bread\n"
   ]
  },
  {
   "cell_type": "code",
   "execution_count": null,
   "id": "3f277093",
   "metadata": {},
   "outputs": [],
   "source": []
  }
 ],
 "metadata": {
  "kernelspec": {
   "display_name": "base",
   "language": "python",
   "name": "python3"
  },
  "language_info": {
   "codemirror_mode": {
    "name": "ipython",
    "version": 3
   },
   "file_extension": ".py",
   "mimetype": "text/x-python",
   "name": "python",
   "nbconvert_exporter": "python",
   "pygments_lexer": "ipython3",
   "version": "3.11.3"
  }
 },
 "nbformat": 4,
 "nbformat_minor": 5
}
